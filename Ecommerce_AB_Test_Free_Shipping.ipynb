{
 "cells": [
  {
   "cell_type": "markdown",
   "id": "93eda7bb-c565-4fdc-a3c5-999574781594",
   "metadata": {},
   "source": [
    "A/B Testing: Free Shipping Threshold impact on Average Order Value(AOV)"
   ]
  },
  {
   "cell_type": "code",
   "execution_count": null,
   "id": "155b3574-cc62-486b-9691-4cd37a02ee75",
   "metadata": {},
   "outputs": [],
   "source": [
    "import numpy as np\n",
    "import pandas as pd\n",
    "import matplotlib.pyplot as plt\n",
    "from scipy.stats import ttest_ind\n",
    "\n",
    "# Make plots display inside the notebook\n",
    "%matplotlib inline"
   ]
  },
  {
   "cell_type": "markdown",
   "id": "f7d08b09-b833-49d9-b72f-3ef9f686ffea",
   "metadata": {},
   "source": [
    " Simulate Data"
   ]
  },
  {
   "cell_type": "code",
   "execution_count": 2,
   "id": "1329f994-7152-4220-9fab-9fce639658e1",
   "metadata": {},
   "outputs": [
    {
     "data": {
      "text/html": [
       "<div>\n",
       "<style scoped>\n",
       "    .dataframe tbody tr th:only-of-type {\n",
       "        vertical-align: middle;\n",
       "    }\n",
       "\n",
       "    .dataframe tbody tr th {\n",
       "        vertical-align: top;\n",
       "    }\n",
       "\n",
       "    .dataframe thead th {\n",
       "        text-align: right;\n",
       "    }\n",
       "</style>\n",
       "<table border=\"1\" class=\"dataframe\">\n",
       "  <thead>\n",
       "    <tr style=\"text-align: right;\">\n",
       "      <th></th>\n",
       "      <th>group</th>\n",
       "      <th>order_value</th>\n",
       "    </tr>\n",
       "  </thead>\n",
       "  <tbody>\n",
       "    <tr>\n",
       "      <th>0</th>\n",
       "      <td>Control</td>\n",
       "      <td>44.967142</td>\n",
       "    </tr>\n",
       "    <tr>\n",
       "      <th>1</th>\n",
       "      <td>Control</td>\n",
       "      <td>38.617357</td>\n",
       "    </tr>\n",
       "    <tr>\n",
       "      <th>2</th>\n",
       "      <td>Control</td>\n",
       "      <td>46.476885</td>\n",
       "    </tr>\n",
       "    <tr>\n",
       "      <th>3</th>\n",
       "      <td>Control</td>\n",
       "      <td>55.230299</td>\n",
       "    </tr>\n",
       "    <tr>\n",
       "      <th>4</th>\n",
       "      <td>Control</td>\n",
       "      <td>37.658466</td>\n",
       "    </tr>\n",
       "  </tbody>\n",
       "</table>\n",
       "</div>"
      ],
      "text/plain": [
       "     group  order_value\n",
       "0  Control    44.967142\n",
       "1  Control    38.617357\n",
       "2  Control    46.476885\n",
       "3  Control    55.230299\n",
       "4  Control    37.658466"
      ]
     },
     "execution_count": 2,
     "metadata": {},
     "output_type": "execute_result"
    }
   ],
   "source": [
    "# Set random seed for reproducibility\n",
    "np.random.seed(42)\n",
    "\n",
    "# Control group: $30 free shipping threshold\n",
    "n_control = 500\n",
    "aov_control = np.random.normal(loc=40, scale=10, size=n_control)\n",
    "aov_control = np.clip(aov_control, 5, None)\n",
    "\n",
    "# Variant group: $50 free shipping threshold\n",
    "n_variant = 500\n",
    "aov_variant = np.random.normal(loc=45, scale=10, size=n_variant)\n",
    "aov_variant = np.clip(aov_variant, 5, None)\n",
    "\n",
    "# Combine into DataFrame\n",
    "data = pd.DataFrame({\n",
    "    'group': ['Control'] * n_control + ['Variant'] * n_variant,\n",
    "    'order_value': np.concatenate([aov_control, aov_variant])\n",
    "})\n",
    "\n",
    "data.head()"
   ]
  },
  {
   "cell_type": "markdown",
   "id": "3af22ec9-592a-4c49-aecc-d89b3d1e97c1",
   "metadata": {},
   "source": [
    "Summary Statistics"
   ]
  },
  {
   "cell_type": "code",
   "execution_count": 3,
   "id": "9e14b84b-209f-40d3-8eca-97e70069c287",
   "metadata": {},
   "outputs": [
    {
     "data": {
      "text/html": [
       "<div>\n",
       "<style scoped>\n",
       "    .dataframe tbody tr th:only-of-type {\n",
       "        vertical-align: middle;\n",
       "    }\n",
       "\n",
       "    .dataframe tbody tr th {\n",
       "        vertical-align: top;\n",
       "    }\n",
       "\n",
       "    .dataframe thead th {\n",
       "        text-align: right;\n",
       "    }\n",
       "</style>\n",
       "<table border=\"1\" class=\"dataframe\">\n",
       "  <thead>\n",
       "    <tr style=\"text-align: right;\">\n",
       "      <th></th>\n",
       "      <th>count</th>\n",
       "      <th>mean</th>\n",
       "      <th>std</th>\n",
       "    </tr>\n",
       "    <tr>\n",
       "      <th>group</th>\n",
       "      <th></th>\n",
       "      <th></th>\n",
       "      <th></th>\n",
       "    </tr>\n",
       "  </thead>\n",
       "  <tbody>\n",
       "    <tr>\n",
       "      <th>Control</th>\n",
       "      <td>500</td>\n",
       "      <td>40.068380</td>\n",
       "      <td>9.812532</td>\n",
       "    </tr>\n",
       "    <tr>\n",
       "      <th>Variant</th>\n",
       "      <td>500</td>\n",
       "      <td>45.318261</td>\n",
       "      <td>9.779972</td>\n",
       "    </tr>\n",
       "  </tbody>\n",
       "</table>\n",
       "</div>"
      ],
      "text/plain": [
       "         count       mean       std\n",
       "group                              \n",
       "Control    500  40.068380  9.812532\n",
       "Variant    500  45.318261  9.779972"
      ]
     },
     "execution_count": 3,
     "metadata": {},
     "output_type": "execute_result"
    }
   ],
   "source": [
    "summary = data.groupby('group')['order_value'].agg(['count', 'mean', 'std'])\n",
    "summary"
   ]
  },
  {
   "cell_type": "markdown",
   "id": "5f12040f-e76e-4e64-9d21-a1aefd372bd1",
   "metadata": {},
   "source": [
    "Perform t-test"
   ]
  },
  {
   "cell_type": "code",
   "execution_count": 4,
   "id": "65f4ebe2-e409-46b2-8606-65ffad9aec6e",
   "metadata": {},
   "outputs": [
    {
     "name": "stdout",
     "output_type": "stream",
     "text": [
      "T-test Statistic: -8.4734\n",
      "P-value: 0.0000\n"
     ]
    }
   ],
   "source": [
    "t_stat, p_value = ttest_ind(aov_control, aov_variant, equal_var=False)\n",
    "\n",
    "print(f\"T-test Statistic: {t_stat:.4f}\")\n",
    "print(f\"P-value: {p_value:.4f}\")\n"
   ]
  },
  {
   "cell_type": "markdown",
   "id": "00dc8b2e-25ea-436d-816f-5bf4f6f36145",
   "metadata": {},
   "source": [
    "Visualize the Results"
   ]
  },
  {
   "cell_type": "code",
   "execution_count": 5,
   "id": "36715099-f4a4-4385-8f57-b7f479e3c05d",
   "metadata": {},
   "outputs": [
    {
     "data": {
      "image/png": "[encoded data removed]",
      "text/plain": [
       "<Figure size 600x400 with 1 Axes>"
      ]
     },
     "metadata": {},
     "output_type": "display_data"
    }
   ],
   "source": [
    "fig, ax = plt.subplots(figsize=(6,4))\n",
    "summary['mean'].plot(kind='bar', yerr=summary['std'], capsize=5, color=['blue', 'green'], ax=ax)\n",
    "ax.set_ylabel('Average Order Value ($)')\n",
    "ax.set_title('Free Shipping Threshold Impact on AOV')\n",
    "plt.xticks(rotation=0)\n",
    "plt.show()"
   ]
  },
  {
   "cell_type": "markdown",
   "id": "1ed11f99-e6df-4cbb-9cb9-c86245848c9e",
   "metadata": {},
   "source": [
    "Conclusion"
   ]
  },
  {
   "cell_type": "code",
   "execution_count": 6,
   "id": "3b2d8a54-158d-425d-9ac8-a7a5aaee8216",
   "metadata": {},
   "outputs": [
    {
     "name": "stdout",
     "output_type": "stream",
     "text": [
      "✅ Statistically significant difference in AOV: Raising the free shipping threshold likely increased customer spend.\n"
     ]
    }
   ],
   "source": [
    "if p_value < 0.05:\n",
    "    print(\"✅ Statistically significant difference in AOV: Raising the free shipping threshold likely increased customer spend.\")\n",
    "else:\n",
    "    print(\"❌ No statistically significant difference in AOV: Raising the free shipping threshold did not show clear impact.\")\n"
   ]
  },
  {
   "cell_type": "code",
   "execution_count": null,
   "id": "f5976354-e992-4a6a-bd4b-48f33d03c70d",
   "metadata": {},
   "outputs": [],
   "source": []
  }
 ],
 "metadata": {
  "kernelspec": {
   "display_name": "Python 3 (ipykernel)",
   "language": "python",
   "name": "python3"
  },
  "language_info": {
   "codemirror_mode": {
    "name": "ipython",
    "version": 3
   },
   "file_extension": ".py",
   "mimetype": "text/x-python",
   "name": "python",
   "nbconvert_exporter": "python",
   "pygments_lexer": "ipython3",
   "version": "3.13.3"
  }
 },
 "nbformat": 4,
 "nbformat_minor": 5
}
